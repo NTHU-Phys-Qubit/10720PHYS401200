{
 "cells": [
  {
   "cell_type": "markdown",
   "metadata": {},
   "source": [
    "# Tor10 v3.0"
   ]
  },
  {
   "cell_type": "code",
   "execution_count": 2,
   "metadata": {},
   "outputs": [],
   "source": [
    "import Tor10 \n",
    "import numpy as np \n",
    "import torch \n",
    "import copy"
   ]
  },
  {
   "cell_type": "markdown",
   "metadata": {},
   "source": [
    "## Bond\n",
    "* Bond = local vector space.\n",
    "* `Tor10.Bond(D)` creates a D-dimensional local vector space.\n",
    "  * D≥1 is an integer.\n",
    "  * Implicitly, it corresponds to a basis $\\vec{e}_1, \\vec{e}_2, \\dots, \\vec{e}_D$"
   ]
  },
  {
   "cell_type": "code",
   "execution_count": 3,
   "metadata": {},
   "outputs": [
    {
     "name": "stdout",
     "output_type": "stream",
     "text": [
      "Dim = 1 |\n",
      "REG     :\n",
      "\n",
      "Dim = 2 |\n",
      "REG     :\n",
      "\n",
      "Dim = 3 |\n",
      "REG     :\n",
      "\n",
      "Dim = 4 |\n",
      "REG     :\n",
      "\n"
     ]
    }
   ],
   "source": [
    "bd1 = Tor10.Bond(1)\n",
    "bd2 = Tor10.Bond(2)\n",
    "bd3 = Tor10.Bond(3)\n",
    "bd4 = Tor10.Bond(4)\n",
    "for b in [bd1, bd2, bd3, bd4]:\n",
    "    print(b)"
   ]
  },
  {
   "cell_type": "markdown",
   "metadata": {},
   "source": [
    "## Tensor"
   ]
  },
  {
   "cell_type": "markdown",
   "metadata": {},
   "source": [
    "### Rank-0 tensor"
   ]
  },
  {
   "cell_type": "code",
   "execution_count": 4,
   "metadata": {},
   "outputs": [
    {
     "name": "stdout",
     "output_type": "stream",
     "text": [
      "-----------------------\n",
      "tensor Name : a\n",
      "tensor Rank : 0\n",
      "has_symmetry: False\n",
      "on device     : cpu\n",
      "is_diag       : False\n",
      "            -------------      \n",
      "           \\             /     \n",
      "            -------------      \n",
      "Tensor name: a\n",
      "is_diag    : False\n",
      "tensor([0.], dtype=torch.float64)\n",
      "\n",
      "Tensor name: a\n",
      "is_diag    : False\n",
      "tensor([10.], dtype=torch.float64)\n",
      "\n",
      "Tensor name: \n",
      "is_diag    : False\n",
      "tensor([0.], dtype=torch.float64)\n",
      "\n",
      "10.0\n"
     ]
    }
   ],
   "source": [
    "# create a rank-0 tensor\n",
    "a = Tor10.UniTensor(bonds=[], name='a')\n",
    "a = Tor10.UniTensor(bonds=[], N_rowrank=0, name='a')\n",
    "a.Print_diagram()\n",
    "print(a)\n",
    "\n",
    "# set value\n",
    "a.SetElem([10])\n",
    "print(a)\n",
    "print(a-10)\n",
    "\n",
    "# get value\n",
    "print(a.item())"
   ]
  },
  {
   "cell_type": "code",
   "execution_count": 5,
   "metadata": {},
   "outputs": [
    {
     "name": "stdout",
     "output_type": "stream",
     "text": [
      "-----------------------\n",
      "tensor Name : a\n",
      "tensor Rank : 0\n",
      "has_symmetry: False\n",
      "on device     : cpu\n",
      "is_diag       : False\n",
      "            -------------      \n",
      "           \\             /     \n",
      "            -------------      \n",
      "Tensor name: a\n",
      "is_diag    : False\n",
      "tensor([10.], dtype=torch.float64)\n",
      "\n"
     ]
    }
   ],
   "source": [
    "\n",
    "a.Print_diagram()\n",
    "print(a)"
   ]
  },
  {
   "cell_type": "markdown",
   "metadata": {},
   "source": [
    "### Rank-1 tensor\n",
    "Consider a rank-1 tensor (=vector) $T_i$ where $i=1, 2, \\dots, D$. We want to distinguish a row vector and a column vector. "
   ]
  },
  {
   "cell_type": "code",
   "execution_count": 8,
   "metadata": {},
   "outputs": [
    {
     "name": "stdout",
     "output_type": "stream",
     "text": [
      "-----------------------\n",
      "tensor Name : a\n",
      "tensor Rank : 1\n",
      "has_symmetry: False\n",
      "on device     : cpu\n",
      "is_diag       : False\n",
      "            -------------      \n",
      "           /             \\     \n",
      "           |           2 |____ 9  \n",
      "           \\             /     \n",
      "            -------------      \n",
      "Tensor name: a\n",
      "is_diag    : False\n",
      "tensor([0., 0.], dtype=torch.float64)\n",
      "\n",
      "-----------------------\n",
      "tensor Name : b\n",
      "tensor Rank : 1\n",
      "has_symmetry: False\n",
      "on device     : cpu\n",
      "is_diag       : False\n",
      "            -------------      \n",
      "           /             \\     \n",
      "    10 ____| 2           |        \n",
      "           \\             /     \n",
      "            -------------      \n",
      "Tensor name: b\n",
      "is_diag    : False\n",
      "tensor([0., 0.], dtype=torch.float64)\n",
      "\n"
     ]
    }
   ],
   "source": [
    "a = Tor10.UniTensor(bonds=[Tor10.Bond(2)], N_rowrank=0, labels=[9], name='a')\n",
    "a.Print_diagram()\n",
    "print(a)\n",
    "\n",
    "b = Tor10.UniTensor(bonds=[Tor10.Bond(2)], N_rowrank=1, labels=[10], name='b')\n",
    "b.Print_diagram()\n",
    "print(b)"
   ]
  },
  {
   "cell_type": "code",
   "execution_count": 9,
   "metadata": {},
   "outputs": [
    {
     "name": "stdout",
     "output_type": "stream",
     "text": [
      "-----------------------\n",
      "tensor Name : \n",
      "tensor Rank : 2\n",
      "has_symmetry: False\n",
      "on device     : cpu\n",
      "is_diag       : False\n",
      "            -------------      \n",
      "           /             \\     \n",
      "    10 ____| 2         2 |____ 9  \n",
      "           \\             /     \n",
      "            -------------      \n",
      "Tensor name: \n",
      "is_diag    : False\n",
      "tensor([[0., 0.],\n",
      "        [0., 0.]], dtype=torch.float64)\n",
      "\n"
     ]
    }
   ],
   "source": [
    "c = Tor10.Contract(a,b)\n",
    "c.Print_diagram()\n",
    "print(c)"
   ]
  },
  {
   "cell_type": "code",
   "execution_count": null,
   "metadata": {},
   "outputs": [],
   "source": []
  },
  {
   "cell_type": "code",
   "execution_count": 41,
   "metadata": {},
   "outputs": [
    {
     "name": "stdout",
     "output_type": "stream",
     "text": [
      "-----------------------\n",
      "tensor Name : \n",
      "tensor Rank : 2\n",
      "has_symmetry: False\n",
      "on device     : cpu\n",
      "is_diag       : False\n",
      "braket_form : True\n",
      "       <bra|             |ket> \n",
      "           ---------------     \n",
      "           |             |     \n",
      "     0 < __| 3           |        \n",
      "           |             |     \n",
      "     1 < __| 4           |        \n",
      "           |             |     \n",
      "           ---------------     \n",
      "True\n",
      "Tensor name: \n",
      "braket_form : True\n",
      "is_diag    : False\n",
      "tensor([[0., 0., 0., 0.],\n",
      "        [0., 0., 0., 0.],\n",
      "        [0., 0., 0., 0.]], dtype=torch.float64)\n",
      "\n"
     ]
    }
   ],
   "source": [
    "a = Tor10.UniTensor(bonds=[Tor10.Bond(3,Tor10.BD_BRA),Tor10.Bond(4,Tor10.BD_BRA)])\n",
    "a.Print_diagram()\n",
    "print(a.is_braket)\n",
    "print(a)"
   ]
  },
  {
   "cell_type": "code",
   "execution_count": 3,
   "metadata": {},
   "outputs": [],
   "source": [
    "## Example for Tor10 v0.3\n",
    "## Kai-Hsin Wu"
   ]
  },
  {
   "cell_type": "code",
   "execution_count": 6,
   "metadata": {},
   "outputs": [
    {
     "name": "stdout",
     "output_type": "stream",
     "text": [
      "Dim = 3 |\n",
      "KET     :\n",
      "\n",
      "Dim = 4 |\n",
      "BRA     :\n",
      "\n",
      "Dim = 3 |\n",
      "KET     :\n",
      "\n",
      "True\n",
      "False\n",
      "False\n"
     ]
    }
   ],
   "source": [
    "## Bond:\n",
    "#=======================================\n",
    "## Non-symmetry:\n",
    "bd_x = Tor10.Bond(3,Tor10.BD_KET) ## This is equivalent to Tor10.Bond(3,Tor10.BD_REGULAR)\n",
    "# bd_x = Tor10.Bond(3) ## This is equivalent to Tor10.Bond(3,Tor10.BD_REGULAR)\n",
    "bd_y = Tor10.Bond(4,Tor10.BD_BRA)\n",
    "bd_z = Tor10.Bond(3,Tor10.BD_KET)\n",
    "print(bd_x)\n",
    "print(bd_y)\n",
    "print(bd_z)\n",
    "print(bd_x==bd_z) ## This should be true\n",
    "print(bd_x is bd_z) ## This should be false\n",
    "print(bd_x==bd_y) ## This should be false"
   ]
  },
  {
   "cell_type": "code",
   "execution_count": 10,
   "metadata": {},
   "outputs": [
    {
     "name": "stdout",
     "output_type": "stream",
     "text": [
      "True\n",
      "True\n"
     ]
    }
   ],
   "source": [
    "x = 'a'\n",
    "y = 'a'\n",
    "print(x is y)\n",
    "print(x == y)"
   ]
  },
  {
   "cell_type": "code",
   "execution_count": null,
   "metadata": {},
   "outputs": [],
   "source": []
  }
 ],
 "metadata": {
  "kernelspec": {
   "display_name": "Python 3",
   "language": "python",
   "name": "python3"
  },
  "language_info": {
   "codemirror_mode": {
    "name": "ipython",
    "version": 3
   },
   "file_extension": ".py",
   "mimetype": "text/x-python",
   "name": "python",
   "nbconvert_exporter": "python",
   "pygments_lexer": "ipython3",
   "version": "3.6.8"
  }
 },
 "nbformat": 4,
 "nbformat_minor": 2
}
