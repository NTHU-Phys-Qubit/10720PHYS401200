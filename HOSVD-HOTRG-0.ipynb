{
 "cells": [
  {
   "cell_type": "markdown",
   "metadata": {},
   "source": [
    "# Higher Order SVD (HOSVD) and TRG (HOTRG)\n",
    "\n",
    "## References\n",
    "* PRB **86**, 045139 (2012)."
   ]
  },
  {
   "cell_type": "markdown",
   "metadata": {},
   "source": [
    "## Higer Order SVD (HOSVD)\n",
    "\n",
    "Given a rank-4 tensor $M_{abcd}$, we want to find unitary matrices $U^L, U^R, U^U, U^D$ such that\n",
    "$$\n",
    "  M_{abcd} = \\sum_{ijkl} S_{ijkl} U^L_{ai} U^R_{bj} U^U_{ck} U^{D}_{dl},\n",
    "$$\n",
    "where $S$ is the core tensor."
   ]
  },
  {
   "cell_type": "code",
   "execution_count": 1,
   "metadata": {},
   "outputs": [],
   "source": [
    "import Tor10\n",
    "import copy\n",
    "import numpy as np\n",
    "\n",
    "def Tprint(T):\n",
    "    print(T.Print_diagram())\n",
    "    print(T)\n",
    "    \n",
    "def Tprint_diag(T):\n",
    "    diag = np.array([T[i,i].item() for i in range(T.bonds[0].dim)])\n",
    "    print(diag)"
   ]
  },
  {
   "cell_type": "code",
   "execution_count": 3,
   "metadata": {},
   "outputs": [
    {
     "name": "stdout",
     "output_type": "stream",
     "text": [
      "-----------------------\n",
      "tensor Name : M\n",
      "tensor Rank : 4\n",
      "has_symmetry: False\n",
      "on device     : cpu\n",
      "is_diag       : False\n",
      "            -------------      \n",
      "           /             \\     \n",
      "     0 ____| 2         2 |____ 2  \n",
      "           |             |     \n",
      "     1 ____| 2         2 |____ 3  \n",
      "           \\             /     \n",
      "            -------------      \n"
     ]
    }
   ],
   "source": [
    "bd = Tor10.Bond(2)\n",
    "M = Tor10.UniTensor([bd, bd, bd, bd], rowrank=2, name='M')\n",
    "M.Rand()\n",
    "# Tprint(M)\n",
    "M.Print_diagram()"
   ]
  },
  {
   "cell_type": "markdown",
   "metadata": {},
   "source": [
    "### How to evaluate $U^L$\n",
    "\n",
    "* Define rank-2 tensor $ML_{a,bcd} = M_{abcd}$.\n",
    "* Define rank-2 tensor $[MM]=[ML][ML]^T$."
   ]
  },
  {
   "cell_type": "code",
   "execution_count": 4,
   "metadata": {},
   "outputs": [
    {
     "name": "stdout",
     "output_type": "stream",
     "text": [
      "-----------------------\n",
      "tensor Name : ML\n",
      "tensor Rank : 4\n",
      "has_symmetry: False\n",
      "on device     : cpu\n",
      "is_diag       : False\n",
      "            -------------      \n",
      "           /             \\     \n",
      "    10 ____| 2         2 |____ 1  \n",
      "           |             |     \n",
      "           |           2 |____ 2  \n",
      "           |             |     \n",
      "           |           2 |____ 3  \n",
      "           \\             /     \n",
      "            -------------      \n",
      "-----------------------\n",
      "tensor Name : ML_t\n",
      "tensor Rank : 4\n",
      "has_symmetry: False\n",
      "on device     : cpu\n",
      "is_diag       : False\n",
      "            -------------      \n",
      "           /             \\     \n",
      "     1 ____| 2         2 |____ 11 \n",
      "           |             |     \n",
      "     2 ____| 2           |        \n",
      "           |             |     \n",
      "     3 ____| 2           |        \n",
      "           \\             /     \n",
      "            -------------      \n"
     ]
    }
   ],
   "source": [
    "ML = M.Permute([0,1,2,3], rowrank=1)\n",
    "ML.SetName('ML')\n",
    "ML_t = M.Whole_transpose()\n",
    "ML_t.SetName('ML_t')\n",
    "\n",
    "ML.SetLabel(10, 0)\n",
    "ML_t.SetLabel(11, 3)\n",
    "\n",
    "# Tprint(ML)\n",
    "ML.Print_diagram()\n",
    "ML_t.Print_diagram()"
   ]
  },
  {
   "cell_type": "code",
   "execution_count": 5,
   "metadata": {},
   "outputs": [
    {
     "name": "stdout",
     "output_type": "stream",
     "text": [
      "-----------------------\n",
      "tensor Name : \n",
      "tensor Rank : 2\n",
      "has_symmetry: False\n",
      "on device     : cpu\n",
      "is_diag       : False\n",
      "            -------------      \n",
      "           /             \\     \n",
      "    10 ____| 2         2 |____ 11 \n",
      "           \\             /     \n",
      "            -------------      \n",
      "None\n",
      "Tensor name: \n",
      "is_diag    : False\n",
      "tensor([[3.3867, 2.2059],\n",
      "        [2.2059, 2.2591]], dtype=torch.float64)\n",
      "\n"
     ]
    }
   ],
   "source": [
    "X = Tor10.Contract(ML, ML_t)\n",
    "# X.Print_diagram()\n",
    "Tprint(X)"
   ]
  },
  {
   "cell_type": "code",
   "execution_count": 6,
   "metadata": {},
   "outputs": [
    {
     "name": "stdout",
     "output_type": "stream",
     "text": [
      "-----------------------\n",
      "tensor Name : \n",
      "tensor Rank : 2\n",
      "has_symmetry: False\n",
      "on device     : cpu\n",
      "is_diag       : False\n",
      "            -------------      \n",
      "           /             \\     \n",
      "    10 ____| 2         2 |____ -1 \n",
      "           \\             /     \n",
      "            -------------      \n",
      "None\n",
      "Tensor name: \n",
      "is_diag    : False\n",
      "tensor([[-0.7898, -0.6133],\n",
      "        [-0.6133,  0.7898]], dtype=torch.float64)\n",
      "\n",
      "-----------------------\n",
      "tensor Name : \n",
      "tensor Rank : 2\n",
      "has_symmetry: False\n",
      "on device     : cpu\n",
      "is_diag       : False\n",
      "            -------------      \n",
      "           /             \\     \n",
      "    -1 ____| 2         2 |____ 11 \n",
      "           \\             /     \n",
      "            -------------      \n",
      "None\n",
      "Tensor name: \n",
      "is_diag    : False\n",
      "tensor([[-0.7898, -0.6133],\n",
      "        [-0.6133,  0.7898]], dtype=torch.float64)\n",
      "\n",
      "-----------------------\n",
      "tensor Name : \n",
      "tensor Rank : 2\n",
      "has_symmetry: False\n",
      "on device     : cpu\n",
      "is_diag       : False\n",
      "            -------------      \n",
      "           /             \\     \n",
      "    10 ____| 2         2 |____ 11 \n",
      "           \\             /     \n",
      "            -------------      \n",
      "None\n",
      "Tensor name: \n",
      "is_diag    : False\n",
      "tensor([[1.0000e+00, 5.5511e-17],\n",
      "        [5.5511e-17, 1.0000e+00]], dtype=torch.float64)\n",
      "\n",
      "-----------------------\n",
      "tensor Name : \n",
      "tensor Rank : 2\n",
      "has_symmetry: False\n",
      "on device     : cpu\n",
      "is_diag       : False\n",
      "            -------------      \n",
      "           /             \\     \n",
      "    10 ____| 2         2 |____ 11 \n",
      "           \\             /     \n",
      "            -------------      \n",
      "None\n",
      "Tensor name: \n",
      "is_diag    : False\n",
      "tensor([[1.0000e+00, 5.5511e-17],\n",
      "        [5.5511e-17, 1.0000e+00]], dtype=torch.float64)\n",
      "\n"
     ]
    }
   ],
   "source": [
    "U, _, _ = X.Svd()\n",
    "Ut = U.Whole_transpose()\n",
    "Ut.SetLabels([-1, 11])\n",
    "Tprint(U)\n",
    "Tprint(Ut)\n",
    "\n",
    "# check unitary \n",
    "Tprint(Tor10.Contract(Ut, U))\n",
    "Tprint(Tor10.Contract(U, Ut))"
   ]
  }
 ],
 "metadata": {
  "kernelspec": {
   "display_name": "Python 3",
   "language": "python",
   "name": "python3"
  },
  "language_info": {
   "codemirror_mode": {
    "name": "ipython",
    "version": 3
   },
   "file_extension": ".py",
   "mimetype": "text/x-python",
   "name": "python",
   "nbconvert_exporter": "python",
   "pygments_lexer": "ipython3",
   "version": "3.6.8"
  }
 },
 "nbformat": 4,
 "nbformat_minor": 2
}
