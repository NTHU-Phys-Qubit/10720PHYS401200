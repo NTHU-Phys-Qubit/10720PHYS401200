{
 "cells": [
  {
   "cell_type": "markdown",
   "metadata": {},
   "source": [
    "# Monte Carlo: 2D Ising Model-0"
   ]
  },
  {
   "cell_type": "markdown",
   "metadata": {},
   "source": [
    "## Hamiltonian and critical temperature\n",
    "\n",
    "Inverse temperatrure\n",
    "$$\n",
    "  \\beta = \\frac{1}{k_B T}, \\;\n",
    "  \\frac{\\partial \\beta}{\\partial T} = \\frac{-1}{k_B T^2}.\n",
    "$$\n",
    "\n",
    "Ising model Hamiltonian:\n",
    "$$\n",
    "  H[\\{S\\}] = -J \\sum_{\\langle i,j\\rangle} S_i S_j - h \\sum_i S_i.\n",
    "$$\n",
    "\n",
    "The exact criticcal temperature $T_c$\n",
    "$$\n",
    "  T_c = \\frac{2}{\\ln\\left(1+\\sqrt{2}\\right)} \\approx 2.269.\n",
    "$$"
   ]
  },
  {
   "cell_type": "markdown",
   "metadata": {},
   "source": [
    "## Canonical partition function\n",
    "\n",
    "Canonical partition function:\n",
    "$$\n",
    "  Z \\equiv  \\sum_{\\{S\\}} e^{-\\beta H[\\{S\\}]} \n",
    "  = \\sum_{\\{S\\}} e^{ \\beta J \\sum_{\\langle i,j\\rangle} S_i S_j + \\beta h \\sum_i S_i}.\n",
    "$$\n",
    "\n",
    "Average energy:\n",
    "$$\n",
    "  \\langle E \\rangle  \n",
    "  \\equiv  \\frac{1}{Z} \\sum_{\\{S\\}} H[\\{S\\}] e^{-\\beta H[\\{S\\}]} \n",
    "  = -\\frac{1}{Z} \\frac{\\partial Z}{\\partial \\beta}  \n",
    "  = -\\frac{\\partial \\ln Z}{\\partial \\beta}.\n",
    "$$\n",
    "\n",
    "Average square energy:\n",
    "$$\n",
    "  \\langle E^2 \\rangle\n",
    "  \\equiv  \\frac{1}{Z} \\sum_{\\{S\\}} H^2[\\{S\\}] e^{-\\beta H[\\{S\\}]} \n",
    "  = \\frac{1}{Z} \\frac{\\partial^2 Z}{\\partial \\beta^2}.\n",
    "$$\n",
    "\n",
    "Heat capacity\n",
    "$$\n",
    "  C_V \\equiv \\frac{\\partial \\langle E \\rangle}{\\partial T} \n",
    "  = \\frac{-1}{k_B T^2} \\frac{\\partial \\langle E \\rangle}{\\partial \\beta}\n",
    "  = \\frac{-1}{k_B T^2} \\left( \n",
    "    -\\frac{1}{Z} \\frac{\\partial^2 Z}{\\partial \\beta^2} \n",
    "    + \\frac{1}{Z^2} \\frac{\\partial Z}{\\partial \\beta} \\frac{\\partial Z}{\\partial \\beta}\n",
    "  \\right)\n",
    "  = \\frac{1}{k_B T^2} \\left( \\langle E^2 \\rangle - \\langle E \\rangle^2 \\right).\n",
    "$$\n",
    "\n",
    "Average magnetization:\n",
    "$$\n",
    "  \\langle M\\rangle \\equiv \\langle \\sum_i S_i \\rangle \n",
    "  = \\frac{1}{Z} \\sum_{\\{S\\}} \\left( \\sum_i S_i \\right) e^{-\\beta H[\\{S\\}]} \n",
    "  = \\frac{1}{Z} \\frac{\\partial Z}{\\partial (\\beta h)}\n",
    "  = \\frac{\\partial \\ln Z}{\\partial (\\beta h)}\n",
    "$$\n",
    "\n",
    "Average square magnetization:\n",
    "$$\n",
    "  \\langle M^2\\rangle \\equiv \\langle (\\sum_i  S_i) (\\sum_j S_j) \\rangle \n",
    "  = \\frac{1}{Z} \\sum_{\\{S\\}} \\left( \\sum_i S_i \\right) \\left( \\sum_j S_j \\right) e^{-\\beta H[\\{S\\}]} \n",
    "  = \\frac{1}{Z} \\frac{\\partial^2 Z}{\\partial (\\beta h)^2}\n",
    "$$\n",
    "\n",
    "Isothermal susceptbility\n",
    "$$\n",
    "  \\chi_T \\equiv \\frac{\\partial M}{\\partial h} = \\beta \\frac{\\partial M}{\\partial (\\beta h)}\n",
    "  = \\beta \\left(\n",
    "    \\frac{1}{Z}\\frac{\\partial^2 Z}{\\partial (\\beta h)^2}\n",
    "    -\\frac{1}{Z^2} \\frac{\\partial Z}{\\partial (\\beta h)} \\frac{\\partial Z}{\\partial (\\beta h)}\n",
    "  \\right)\n",
    "  = \\beta \\left( \\langle M^2 \\rangle -\\langle M \\rangle^2 \\right)\n",
    "  = \\frac{1}{k_B T} \\left( \\langle M^2 \\rangle -\\langle M \\rangle^2 \\right).\n",
    "$$"
   ]
  },
  {
   "cell_type": "code",
   "execution_count": null,
   "metadata": {},
   "outputs": [],
   "source": []
  }
 ],
 "metadata": {
  "kernelspec": {
   "display_name": "Python 3",
   "language": "python",
   "name": "python3"
  },
  "language_info": {
   "codemirror_mode": {
    "name": "ipython",
    "version": 3
   },
   "file_extension": ".py",
   "mimetype": "text/x-python",
   "name": "python",
   "nbconvert_exporter": "python",
   "pygments_lexer": "ipython3",
   "version": "3.6.8"
  }
 },
 "nbformat": 4,
 "nbformat_minor": 2
}
