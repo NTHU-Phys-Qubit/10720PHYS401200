{
 "cells": [
  {
   "cell_type": "markdown",
   "metadata": {},
   "source": [
    "# Sinvular Value Decomposition (SVD)-0\n",
    "\n",
    "In this tutorial, we show how to perform\n",
    "* SVD for a rank-2 tensor.\n",
    "* SVD + truncation for a rank-2 tensor."
   ]
  },
  {
   "cell_type": "markdown",
   "metadata": {},
   "source": [
    "## Import relevant modules"
   ]
  },
  {
   "cell_type": "code",
   "execution_count": 1,
   "metadata": {},
   "outputs": [],
   "source": [
    "import Tor10\n",
    "import copy\n",
    "\n",
    "def Tprint(T):\n",
    "    print(T.Print_diagram())\n",
    "    print(T)"
   ]
  },
  {
   "cell_type": "markdown",
   "metadata": {},
   "source": [
    "## SVD for a rank-2 tensor."
   ]
  },
  {
   "cell_type": "code",
   "execution_count": 2,
   "metadata": {},
   "outputs": [
    {
     "name": "stdout",
     "output_type": "stream",
     "text": [
      "-----------------------\n",
      "tensor Name : M\n",
      "tensor Rank : 2\n",
      "has_symmetry: False\n",
      "on device     : cpu\n",
      "is_diag       : False\n",
      "            -------------      \n",
      "           /             \\     \n",
      "    10 ____| 3         3 |____ 11 \n",
      "           \\             /     \n",
      "            -------------      \n",
      "None\n",
      "Tensor name: M\n",
      "is_diag    : False\n",
      "tensor([[0.1485, 0.3770, 0.8812],\n",
      "        [0.3532, 0.4638, 0.2232],\n",
      "        [0.6451, 0.9959, 0.1542]], dtype=torch.float64)\n",
      "\n"
     ]
    }
   ],
   "source": [
    "M = Tor10.UniTensor([Tor10.Bond(3), Tor10.Bond(3)], N_rowrank=1, name='M', labels=[10, 11])\n",
    "M.Rand()\n",
    "Tprint(M)\n",
    "\n",
    "# three identical ways to perform SVD\n",
    "U, S, Vt = M.Svd()\n",
    "U, S, Vt = Tor10.Svd(M)\n",
    "U, S, Vt = Tor10.linalg.Svd(M)"
   ]
  },
  {
   "cell_type": "code",
   "execution_count": 3,
   "metadata": {},
   "outputs": [
    {
     "name": "stdout",
     "output_type": "stream",
     "text": [
      "Tensor name: \n",
      "is_diag    : False\n",
      "tensor([[-2.2204e-16, -5.5511e-16,  2.2204e-16],\n",
      "        [-1.1102e-16, -2.2204e-16, -3.0531e-16],\n",
      "        [-1.1102e-16, -2.2204e-16, -2.7756e-16]], dtype=torch.float64)\n",
      "\n"
     ]
    }
   ],
   "source": [
    "# Check M = U S Vt\n",
    "\n",
    "print(M - Tor10.Contract(Tor10.Contract(U, S), Vt))"
   ]
  },
  {
   "cell_type": "code",
   "execution_count": 4,
   "metadata": {},
   "outputs": [
    {
     "name": "stdout",
     "output_type": "stream",
     "text": [
      "-----------------------\n",
      "tensor Name : U\n",
      "tensor Rank : 2\n",
      "has_symmetry: False\n",
      "on device     : cpu\n",
      "is_diag       : False\n",
      "            -------------      \n",
      "           /             \\     \n",
      "    10 ____| 3         3 |____ -1 \n",
      "           \\             /     \n",
      "            -------------      \n",
      "None\n",
      "Tensor name: U\n",
      "is_diag    : False\n",
      "tensor([[-0.4976,  0.8535,  0.1550],\n",
      "        [-0.4156, -0.0778, -0.9062],\n",
      "        [-0.7614, -0.5153,  0.3934]], dtype=torch.float64)\n",
      "\n",
      "-----------------------\n",
      "tensor Name : Ut\n",
      "tensor Rank : 2\n",
      "has_symmetry: False\n",
      "on device     : cpu\n",
      "is_diag       : False\n",
      "            -------------      \n",
      "           /             \\     \n",
      "    -1 ____| 3         3 |____ 10 \n",
      "           \\             /     \n",
      "            -------------      \n",
      "None\n",
      "Tensor name: Ut\n",
      "is_diag    : False\n",
      "tensor([[-0.4976, -0.4156, -0.7614],\n",
      "        [ 0.8535, -0.0778, -0.5153],\n",
      "        [ 0.1550, -0.9062,  0.3934]], dtype=torch.float64)\n",
      "\n",
      "-----------------------\n",
      "tensor Name : Ut\n",
      "tensor Rank : 2\n",
      "has_symmetry: False\n",
      "on device     : cpu\n",
      "is_diag       : False\n",
      "            -------------      \n",
      "           /             \\     \n",
      "    -1 ____| 3         3 |____ 11 \n",
      "           \\             /     \n",
      "            -------------      \n",
      "-----------------------\n",
      "tensor Name : Ut_U\n",
      "tensor Rank : 2\n",
      "has_symmetry: False\n",
      "on device     : cpu\n",
      "is_diag       : False\n",
      "            -------------      \n",
      "           /             \\     \n",
      "    10 ____| 3         3 |____ 11 \n",
      "           \\             /     \n",
      "            -------------      \n",
      "None\n",
      "Tensor name: Ut_U\n",
      "is_diag    : False\n",
      "tensor([[1.0000e+00, 3.9887e-16, 1.9577e-16],\n",
      "        [3.9887e-16, 1.0000e+00, 5.4663e-17],\n",
      "        [1.9577e-16, 5.4663e-17, 1.0000e+00]], dtype=torch.float64)\n",
      "\n"
     ]
    }
   ],
   "source": [
    "# Check Ut U = Id\n",
    "U.SetName('U')\n",
    "Tprint(U)\n",
    "\n",
    "Ut = U.Whole_transpose()\n",
    "Ut.SetName('Ut')\n",
    "Tprint(Ut)\n",
    "Ut.SetLabels([-1, 11])\n",
    "Ut.Print_diagram()\n",
    "\n",
    "Ut_U = Tor10.Contract(Ut, U)\n",
    "Ut_U.SetName('Ut_U')\n",
    "Tprint(Ut_U)"
   ]
  },
  {
   "cell_type": "code",
   "execution_count": 5,
   "metadata": {},
   "outputs": [
    {
     "name": "stdout",
     "output_type": "stream",
     "text": [
      "-----------------------\n",
      "tensor Name : S\n",
      "tensor Rank : 2\n",
      "has_symmetry: False\n",
      "on device     : cpu\n",
      "is_diag       : True\n",
      "            -------------      \n",
      "           /             \\     \n",
      "    -1 ____| 3         3 |____ -2 \n",
      "           \\             /     \n",
      "            -------------      \n",
      "None\n",
      "Tensor name: S\n",
      "is_diag    : True\n",
      "tensor([1.4912, 0.7318, 0.0528], dtype=torch.float64)\n",
      "\n"
     ]
    }
   ],
   "source": [
    "# Check S\n",
    "S.SetName('S')\n",
    "Tprint(S)"
   ]
  },
  {
   "cell_type": "code",
   "execution_count": 6,
   "metadata": {},
   "outputs": [
    {
     "name": "stdout",
     "output_type": "stream",
     "text": [
      "-----------------------\n",
      "tensor Name : Vt\n",
      "tensor Rank : 2\n",
      "has_symmetry: False\n",
      "on device     : cpu\n",
      "is_diag       : False\n",
      "            -------------      \n",
      "           /             \\     \n",
      "    -2 ____| 3         3 |____ 11 \n",
      "           \\             /     \n",
      "            -------------      \n",
      "None\n",
      "Tensor name: Vt\n",
      "is_diag    : False\n",
      "tensor([[-0.4774, -0.7635, -0.4350],\n",
      "        [-0.3186, -0.3109,  0.8954],\n",
      "        [-0.8189,  0.5660, -0.0948]], dtype=torch.float64)\n",
      "\n",
      "-----------------------\n",
      "tensor Name : V\n",
      "tensor Rank : 2\n",
      "has_symmetry: False\n",
      "on device     : cpu\n",
      "is_diag       : False\n",
      "            -------------      \n",
      "           /             \\     \n",
      "    11 ____| 3         3 |____ -2 \n",
      "           \\             /     \n",
      "            -------------      \n",
      "None\n",
      "Tensor name: V\n",
      "is_diag    : False\n",
      "tensor([[-0.4774, -0.3186, -0.8189],\n",
      "        [-0.7635, -0.3109,  0.5660],\n",
      "        [-0.4350,  0.8954, -0.0948]], dtype=torch.float64)\n",
      "\n",
      "-----------------------\n",
      "tensor Name : V\n",
      "tensor Rank : 2\n",
      "has_symmetry: False\n",
      "on device     : cpu\n",
      "is_diag       : False\n",
      "            -------------      \n",
      "           /             \\     \n",
      "    10 ____| 3         3 |____ -2 \n",
      "           \\             /     \n",
      "            -------------      \n",
      "-----------------------\n",
      "tensor Name : Vt_V\n",
      "tensor Rank : 2\n",
      "has_symmetry: False\n",
      "on device     : cpu\n",
      "is_diag       : False\n",
      "            -------------      \n",
      "           /             \\     \n",
      "    10 ____| 3         3 |____ 11 \n",
      "           \\             /     \n",
      "            -------------      \n",
      "None\n",
      "Tensor name: Vt_V\n",
      "is_diag    : False\n",
      "tensor([[1.0000e+00, 9.3306e-17, 1.2484e-16],\n",
      "        [9.3306e-17, 1.0000e+00, 1.8120e-16],\n",
      "        [1.2484e-16, 1.8120e-16, 1.0000e+00]], dtype=torch.float64)\n",
      "\n"
     ]
    }
   ],
   "source": [
    "# Check Vt V = Id\n",
    "Vt.SetName('Vt')\n",
    "Tprint(Vt)\n",
    "\n",
    "V = Vt.Whole_transpose()\n",
    "V.SetName('V')\n",
    "Tprint(V)\n",
    "V.SetLabels([10, -2])\n",
    "V.Print_diagram()\n",
    "\n",
    "Vt_V = Tor10.Contract(Vt, V)\n",
    "Vt_V.SetName('Vt_V')\n",
    "Tprint(Vt_V)"
   ]
  },
  {
   "cell_type": "markdown",
   "metadata": {},
   "source": [
    "## SVD + truncation for a rank-2 tensor."
   ]
  },
  {
   "cell_type": "code",
   "execution_count": 7,
   "metadata": {},
   "outputs": [
    {
     "name": "stdout",
     "output_type": "stream",
     "text": [
      "-----------------------\n",
      "tensor Name : M\n",
      "tensor Rank : 2\n",
      "has_symmetry: False\n",
      "on device     : cpu\n",
      "is_diag       : False\n",
      "            -------------      \n",
      "           /             \\     \n",
      "    10 ____| 3         3 |____ 11 \n",
      "           \\             /     \n",
      "            -------------      \n",
      "None\n",
      "Tensor name: M\n",
      "is_diag    : False\n",
      "tensor([[0.2533, 0.0196, 0.1436],\n",
      "        [0.7735, 0.5777, 0.5985],\n",
      "        [0.9166, 0.1952, 0.3900]], dtype=torch.float64)\n",
      "\n"
     ]
    }
   ],
   "source": [
    "M = Tor10.UniTensor([Tor10.Bond(3), Tor10.Bond(3)], N_rowrank=1, name='M', labels=[10, 11])\n",
    "M.Rand()\n",
    "Tprint(M)\n",
    "\n",
    "# three identical ways to perform SVD + truncate\n",
    "# Uc, Sc, Vtc = M.Svd_truncate() # does not work :(\n",
    "Uc, Sc, Vtc = Tor10.Svd_truncate(M, 2)\n",
    "Uc, Sc, Vtc = Tor10.linalg.Svd_truncate(M, 2)"
   ]
  },
  {
   "cell_type": "code",
   "execution_count": 8,
   "metadata": {},
   "outputs": [
    {
     "name": "stdout",
     "output_type": "stream",
     "text": [
      "Tensor name: \n",
      "is_diag    : False\n",
      "tensor([[-0.0111, -0.0218,  0.0355],\n",
      "        [-0.0003, -0.0007,  0.0011],\n",
      "        [ 0.0035,  0.0069, -0.0112]], dtype=torch.float64)\n",
      "\n"
     ]
    }
   ],
   "source": [
    "# Check M ≠ Uc Sc Vtc\n",
    "\n",
    "print(M - Tor10.Contract(Tor10.Contract(Uc, Sc), Vtc))"
   ]
  },
  {
   "cell_type": "code",
   "execution_count": 9,
   "metadata": {},
   "outputs": [
    {
     "name": "stdout",
     "output_type": "stream",
     "text": [
      "-----------------------\n",
      "tensor Name : Uc\n",
      "tensor Rank : 2\n",
      "has_symmetry: False\n",
      "on device     : cpu\n",
      "is_diag       : False\n",
      "            -------------      \n",
      "           /             \\     \n",
      "    10 ____| 3         2 |____ -1 \n",
      "           \\             /     \n",
      "            -------------      \n",
      "None\n",
      "Tensor name: Uc\n",
      "is_diag    : False\n",
      "tensor([[-0.1833,  0.2407],\n",
      "        [-0.7350, -0.6774],\n",
      "        [-0.6528,  0.6951]], dtype=torch.float64)\n",
      "\n",
      "-----------------------\n",
      "tensor Name : Utc\n",
      "tensor Rank : 2\n",
      "has_symmetry: False\n",
      "on device     : cpu\n",
      "is_diag       : False\n",
      "            -------------      \n",
      "           /             \\     \n",
      "    -1 ____| 2         3 |____ 10 \n",
      "           \\             /     \n",
      "            -------------      \n",
      "None\n",
      "Tensor name: Utc\n",
      "is_diag    : False\n",
      "tensor([[-0.1833, -0.7350, -0.6528],\n",
      "        [ 0.2407, -0.6774,  0.6951]], dtype=torch.float64)\n",
      "\n",
      "-----------------------\n",
      "tensor Name : Utc\n",
      "tensor Rank : 2\n",
      "has_symmetry: False\n",
      "on device     : cpu\n",
      "is_diag       : False\n",
      "            -------------      \n",
      "           /             \\     \n",
      "    -1 ____| 2         3 |____ 11 \n",
      "           \\             /     \n",
      "            -------------      \n",
      "-----------------------\n",
      "tensor Name : Utc_Uc\n",
      "tensor Rank : 2\n",
      "has_symmetry: False\n",
      "on device     : cpu\n",
      "is_diag       : False\n",
      "            -------------      \n",
      "           /             \\     \n",
      "    10 ____| 3         3 |____ 11 \n",
      "           \\             /     \n",
      "            -------------      \n",
      "None\n",
      "Tensor name: Utc_Uc\n",
      "is_diag    : False\n",
      "tensor([[ 0.0916, -0.0283,  0.2870],\n",
      "        [-0.0283,  0.9991,  0.0089],\n",
      "        [ 0.2870,  0.0089,  0.9093]], dtype=torch.float64)\n",
      "\n"
     ]
    }
   ],
   "source": [
    "# Check Utc Uc ≠ Id\n",
    "Uc.SetName('Uc')\n",
    "Tprint(Uc)\n",
    "\n",
    "Utc = Uc.Whole_transpose()\n",
    "Utc.SetName('Utc')\n",
    "Tprint(Utc)\n",
    "Utc.SetLabels([-1, 11])\n",
    "Utc.Print_diagram()\n",
    "\n",
    "Utc_Uc = Tor10.Contract(Utc, Uc)\n",
    "Utc_Uc.SetName('Utc_Uc')\n",
    "Tprint(Utc_Uc)"
   ]
  },
  {
   "cell_type": "code",
   "execution_count": 10,
   "metadata": {},
   "outputs": [
    {
     "name": "stdout",
     "output_type": "stream",
     "text": [
      "-----------------------\n",
      "tensor Name : Sc\n",
      "tensor Rank : 2\n",
      "has_symmetry: False\n",
      "on device     : cpu\n",
      "is_diag       : True\n",
      "            -------------      \n",
      "           /             \\     \n",
      "    -1 ____| 2         2 |____ -2 \n",
      "           \\             /     \n",
      "            -------------      \n",
      "None\n",
      "Tensor name: Sc\n",
      "is_diag    : True\n",
      "tensor([1.5167, 0.3213], dtype=torch.float64)\n",
      "\n"
     ]
    }
   ],
   "source": [
    "# Check Sc\n",
    "Sc.SetName('Sc')\n",
    "Tprint(Sc)"
   ]
  },
  {
   "cell_type": "code",
   "execution_count": 11,
   "metadata": {},
   "outputs": [
    {
     "name": "stdout",
     "output_type": "stream",
     "text": [
      "-----------------------\n",
      "tensor Name : Vtc\n",
      "tensor Rank : 2\n",
      "has_symmetry: False\n",
      "on device     : cpu\n",
      "is_diag       : False\n",
      "            -------------      \n",
      "           /             \\     \n",
      "    -2 ____| 2         3 |____ 11 \n",
      "           \\             /     \n",
      "            -------------      \n",
      "None\n",
      "Tensor name: Vtc\n",
      "is_diag    : False\n",
      "tensor([[-0.8000, -0.3664, -0.4752],\n",
      "        [ 0.5420, -0.7809, -0.3104]], dtype=torch.float64)\n",
      "\n",
      "-----------------------\n",
      "tensor Name : Vc\n",
      "tensor Rank : 2\n",
      "has_symmetry: False\n",
      "on device     : cpu\n",
      "is_diag       : False\n",
      "            -------------      \n",
      "           /             \\     \n",
      "    11 ____| 3         2 |____ -2 \n",
      "           \\             /     \n",
      "            -------------      \n",
      "None\n",
      "Tensor name: Vc\n",
      "is_diag    : False\n",
      "tensor([[-0.8000,  0.5420],\n",
      "        [-0.3664, -0.7809],\n",
      "        [-0.4752, -0.3104]], dtype=torch.float64)\n",
      "\n",
      "-----------------------\n",
      "tensor Name : Vc\n",
      "tensor Rank : 2\n",
      "has_symmetry: False\n",
      "on device     : cpu\n",
      "is_diag       : False\n",
      "            -------------      \n",
      "           /             \\     \n",
      "    10 ____| 3         2 |____ -2 \n",
      "           \\             /     \n",
      "            -------------      \n",
      "-----------------------\n",
      "tensor Name : Vtc_Vc\n",
      "tensor Rank : 2\n",
      "has_symmetry: False\n",
      "on device     : cpu\n",
      "is_diag       : False\n",
      "            -------------      \n",
      "           /             \\     \n",
      "    10 ____| 3         3 |____ 11 \n",
      "           \\             /     \n",
      "            -------------      \n",
      "None\n",
      "Tensor name: Vtc_Vc\n",
      "is_diag    : False\n",
      "tensor([[ 0.9337, -0.1302,  0.2119],\n",
      "        [-0.1302,  0.7441,  0.4165],\n",
      "        [ 0.2119,  0.4165,  0.3222]], dtype=torch.float64)\n",
      "\n"
     ]
    }
   ],
   "source": [
    "# Check Vtc Vc ≠ Id\n",
    "Vtc.SetName('Vtc')\n",
    "Tprint(Vtc)\n",
    "\n",
    "Vc = Vtc.Whole_transpose()\n",
    "Vc.SetName('Vc')\n",
    "Tprint(Vc)\n",
    "Vc.SetLabels([10, -2])\n",
    "Vc.Print_diagram()\n",
    "\n",
    "Vtc_Vc = Tor10.Contract(Vtc, Vc)\n",
    "Vtc_Vc.SetName('Vtc_Vc')\n",
    "Tprint(Vtc_Vc)"
   ]
  }
 ],
 "metadata": {
  "kernelspec": {
   "display_name": "Python 3",
   "language": "python",
   "name": "python3"
  },
  "language_info": {
   "codemirror_mode": {
    "name": "ipython",
    "version": 3
   },
   "file_extension": ".py",
   "mimetype": "text/x-python",
   "name": "python",
   "nbconvert_exporter": "python",
   "pygments_lexer": "ipython3",
   "version": "3.6.8"
  }
 },
 "nbformat": 4,
 "nbformat_minor": 2
}
