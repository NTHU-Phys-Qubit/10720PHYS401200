{
 "cells": [
  {
   "cell_type": "markdown",
   "metadata": {},
   "source": [
    "# Sinvular Value Decomposition (SVD)-0\n",
    "\n",
    "In this tutorial, we show how to perform\n",
    "* SVD for a rank-2 tensor.\n",
    "* SVD + truncation for a rank-2 tensor.\n",
    "\n",
    "## API change\n",
    "* `N_rowrank-->rowrank`."
   ]
  },
  {
   "cell_type": "markdown",
   "metadata": {},
   "source": [
    "## Import relevant modules"
   ]
  },
  {
   "cell_type": "code",
   "execution_count": 1,
   "metadata": {},
   "outputs": [],
   "source": [
    "import Tor10\n",
    "import copy\n",
    "\n",
    "def Tprint(T):\n",
    "    print(T.Print_diagram())\n",
    "    print(T)"
   ]
  },
  {
   "cell_type": "markdown",
   "metadata": {},
   "source": [
    "## SVD for a rank-2 tensor."
   ]
  },
  {
   "cell_type": "code",
   "execution_count": 2,
   "metadata": {},
   "outputs": [
    {
     "name": "stdout",
     "output_type": "stream",
     "text": [
      "-----------------------\n",
      "tensor Name : M\n",
      "tensor Rank : 2\n",
      "has_symmetry: False\n",
      "on device     : cpu\n",
      "is_diag       : False\n",
      "            -------------      \n",
      "           /             \\     \n",
      "    10 ____| 3         3 |____ 11 \n",
      "           \\             /     \n",
      "            -------------      \n",
      "None\n",
      "Tensor name: M\n",
      "is_diag    : False\n",
      "tensor([[0.4751, 0.0908, 0.5339],\n",
      "        [0.7093, 0.8224, 0.5454],\n",
      "        [0.8366, 0.7248, 0.8520]], dtype=torch.float64)\n",
      "\n"
     ]
    }
   ],
   "source": [
    "M = Tor10.UniTensor([Tor10.Bond(3), Tor10.Bond(3)], rowrank=1, name='M', labels=[10, 11])\n",
    "M.Rand()\n",
    "Tprint(M)\n",
    "\n",
    "# three identical ways to perform SVD\n",
    "U, S, Vt = M.Svd()\n",
    "U, S, Vt = Tor10.Svd(M)\n",
    "U, S, Vt = Tor10.linalg.Svd(M)"
   ]
  },
  {
   "cell_type": "code",
   "execution_count": 3,
   "metadata": {},
   "outputs": [
    {
     "name": "stdout",
     "output_type": "stream",
     "text": [
      "Tensor name: \n",
      "is_diag    : False\n",
      "tensor([[ 1.6653e-16,  3.7470e-16,  4.4409e-16],\n",
      "        [ 1.1102e-16, -1.1102e-16,  2.2204e-16],\n",
      "        [-1.1102e-16, -2.2204e-16, -1.1102e-16]], dtype=torch.float64)\n",
      "\n"
     ]
    }
   ],
   "source": [
    "# Check M = U S Vt\n",
    "\n",
    "print(M - Tor10.Contract(Tor10.Contract(U, S), Vt))"
   ]
  },
  {
   "cell_type": "code",
   "execution_count": 4,
   "metadata": {},
   "outputs": [
    {
     "name": "stdout",
     "output_type": "stream",
     "text": [
      "-----------------------\n",
      "tensor Name : U\n",
      "tensor Rank : 2\n",
      "has_symmetry: False\n",
      "on device     : cpu\n",
      "is_diag       : False\n",
      "            -------------      \n",
      "           /             \\     \n",
      "    10 ____| 3         3 |____ -1 \n",
      "           \\             /     \n",
      "            -------------      \n",
      "None\n",
      "Tensor name: U\n",
      "is_diag    : False\n",
      "tensor([[-0.3327,  0.8055, -0.4905],\n",
      "        [-0.6130, -0.5799, -0.5366],\n",
      "        [-0.7166,  0.1222,  0.6867]], dtype=torch.float64)\n",
      "\n",
      "-----------------------\n",
      "tensor Name : Ut\n",
      "tensor Rank : 2\n",
      "has_symmetry: False\n",
      "on device     : cpu\n",
      "is_diag       : False\n",
      "            -------------      \n",
      "           /             \\     \n",
      "    -1 ____| 3         3 |____ 10 \n",
      "           \\             /     \n",
      "            -------------      \n",
      "None\n",
      "Tensor name: Ut\n",
      "is_diag    : False\n",
      "tensor([[-0.3327, -0.6130, -0.7166],\n",
      "        [ 0.8055, -0.5799,  0.1222],\n",
      "        [-0.4905, -0.5366,  0.6867]], dtype=torch.float64)\n",
      "\n",
      "-----------------------\n",
      "tensor Name : Ut\n",
      "tensor Rank : 2\n",
      "has_symmetry: False\n",
      "on device     : cpu\n",
      "is_diag       : False\n",
      "            -------------      \n",
      "           /             \\     \n",
      "    -1 ____| 3         3 |____ 11 \n",
      "           \\             /     \n",
      "            -------------      \n",
      "-----------------------\n",
      "tensor Name : Ut_U\n",
      "tensor Rank : 2\n",
      "has_symmetry: False\n",
      "on device     : cpu\n",
      "is_diag       : False\n",
      "            -------------      \n",
      "           /             \\     \n",
      "    10 ____| 3         3 |____ 11 \n",
      "           \\             /     \n",
      "            -------------      \n",
      "None\n",
      "Tensor name: Ut_U\n",
      "is_diag    : False\n",
      "tensor([[ 1.0000e+00, -1.0866e-16, -1.4150e-16],\n",
      "        [-1.0866e-16,  1.0000e+00,  5.0857e-17],\n",
      "        [-1.4150e-16,  5.0857e-17,  1.0000e+00]], dtype=torch.float64)\n",
      "\n"
     ]
    }
   ],
   "source": [
    "# Check Ut U = Id\n",
    "U.SetName('U')\n",
    "Tprint(U)\n",
    "\n",
    "Ut = U.Whole_transpose()\n",
    "Ut.SetName('Ut')\n",
    "Tprint(Ut)\n",
    "Ut.SetLabels([-1, 11])\n",
    "Ut.Print_diagram()\n",
    "\n",
    "Ut_U = Tor10.Contract(Ut, U)\n",
    "Ut_U.SetName('Ut_U')\n",
    "Tprint(Ut_U)"
   ]
  },
  {
   "cell_type": "code",
   "execution_count": 5,
   "metadata": {},
   "outputs": [
    {
     "name": "stdout",
     "output_type": "stream",
     "text": [
      "-----------------------\n",
      "tensor Name : S\n",
      "tensor Rank : 2\n",
      "has_symmetry: False\n",
      "on device     : cpu\n",
      "is_diag       : True\n",
      "            -------------      \n",
      "           /             \\     \n",
      "    -1 ____| 3         3 |____ -2 \n",
      "           \\             /     \n",
      "            -------------      \n",
      "None\n",
      "Tensor name: S\n",
      "is_diag    : True\n",
      "tensor([1.9474, 0.3902, 0.0511], dtype=torch.float64)\n",
      "\n"
     ]
    }
   ],
   "source": [
    "# Check S\n",
    "S.SetName('S')\n",
    "Tprint(S)"
   ]
  },
  {
   "cell_type": "code",
   "execution_count": 6,
   "metadata": {},
   "outputs": [
    {
     "name": "stdout",
     "output_type": "stream",
     "text": [
      "-----------------------\n",
      "tensor Name : Vt\n",
      "tensor Rank : 2\n",
      "has_symmetry: False\n",
      "on device     : cpu\n",
      "is_diag       : False\n",
      "            -------------      \n",
      "           /             \\     \n",
      "    -2 ____| 3         3 |____ 11 \n",
      "           \\             /     \n",
      "            -------------      \n",
      "None\n",
      "Tensor name: Vt\n",
      "is_diag    : False\n",
      "tensor([[-0.6123, -0.5411, -0.5764],\n",
      "        [ 0.1885, -0.8080,  0.5582],\n",
      "        [-0.7678,  0.2331,  0.5968]], dtype=torch.float64)\n",
      "\n",
      "-----------------------\n",
      "tensor Name : V\n",
      "tensor Rank : 2\n",
      "has_symmetry: False\n",
      "on device     : cpu\n",
      "is_diag       : False\n",
      "            -------------      \n",
      "           /             \\     \n",
      "    11 ____| 3         3 |____ -2 \n",
      "           \\             /     \n",
      "            -------------      \n",
      "None\n",
      "Tensor name: V\n",
      "is_diag    : False\n",
      "tensor([[-0.6123,  0.1885, -0.7678],\n",
      "        [-0.5411, -0.8080,  0.2331],\n",
      "        [-0.5764,  0.5582,  0.5968]], dtype=torch.float64)\n",
      "\n",
      "-----------------------\n",
      "tensor Name : V\n",
      "tensor Rank : 2\n",
      "has_symmetry: False\n",
      "on device     : cpu\n",
      "is_diag       : False\n",
      "            -------------      \n",
      "           /             \\     \n",
      "    10 ____| 3         3 |____ -2 \n",
      "           \\             /     \n",
      "            -------------      \n",
      "-----------------------\n",
      "tensor Name : Vt_V\n",
      "tensor Rank : 2\n",
      "has_symmetry: False\n",
      "on device     : cpu\n",
      "is_diag       : False\n",
      "            -------------      \n",
      "           /             \\     \n",
      "    10 ____| 3         3 |____ 11 \n",
      "           \\             /     \n",
      "            -------------      \n",
      "None\n",
      "Tensor name: Vt_V\n",
      "is_diag    : False\n",
      "tensor([[ 1.0000e+00,  5.2290e-17,  5.0941e-17],\n",
      "        [ 5.2290e-17,  1.0000e+00, -2.3996e-16],\n",
      "        [ 5.0941e-17, -2.3996e-16,  1.0000e+00]], dtype=torch.float64)\n",
      "\n"
     ]
    }
   ],
   "source": [
    "# Check Vt V = Id\n",
    "Vt.SetName('Vt')\n",
    "Tprint(Vt)\n",
    "\n",
    "V = Vt.Whole_transpose()\n",
    "V.SetName('V')\n",
    "Tprint(V)\n",
    "V.SetLabels([10, -2])\n",
    "V.Print_diagram()\n",
    "\n",
    "Vt_V = Tor10.Contract(Vt, V)\n",
    "Vt_V.SetName('Vt_V')\n",
    "Tprint(Vt_V)"
   ]
  },
  {
   "cell_type": "markdown",
   "metadata": {},
   "source": [
    "## SVD + truncation for a rank-2 tensor."
   ]
  },
  {
   "cell_type": "code",
   "execution_count": 7,
   "metadata": {},
   "outputs": [
    {
     "name": "stdout",
     "output_type": "stream",
     "text": [
      "-----------------------\n",
      "tensor Name : M\n",
      "tensor Rank : 2\n",
      "has_symmetry: False\n",
      "on device     : cpu\n",
      "is_diag       : False\n",
      "            -------------      \n",
      "           /             \\     \n",
      "    10 ____| 3         3 |____ 11 \n",
      "           \\             /     \n",
      "            -------------      \n",
      "None\n",
      "Tensor name: M\n",
      "is_diag    : False\n",
      "tensor([[0.0250, 0.4958, 0.5691],\n",
      "        [0.9460, 0.5817, 0.2471],\n",
      "        [0.5930, 0.0340, 0.7192]], dtype=torch.float64)\n",
      "\n"
     ]
    }
   ],
   "source": [
    "M = Tor10.UniTensor([Tor10.Bond(3), Tor10.Bond(3)], rowrank=1, name='M', labels=[10, 11])\n",
    "M.Rand()\n",
    "Tprint(M)\n",
    "\n",
    "# three identical ways to perform SVD + truncate\n",
    "# Uc, Sc, Vtc = M.Svd_truncate() # does not work :(\n",
    "Uc, Sc, Vtc = Tor10.Svd_truncate(M, 2)\n",
    "Uc, Sc, Vtc = Tor10.linalg.Svd_truncate(M, 2)"
   ]
  },
  {
   "cell_type": "code",
   "execution_count": 8,
   "metadata": {},
   "outputs": [
    {
     "name": "stdout",
     "output_type": "stream",
     "text": [
      "Tensor name: \n",
      "is_diag    : False\n",
      "tensor([[-0.1017,  0.2639, -0.0750],\n",
      "        [-0.0460,  0.1194, -0.0339],\n",
      "        [ 0.1251, -0.3246,  0.0923]], dtype=torch.float64)\n",
      "\n"
     ]
    }
   ],
   "source": [
    "# Check M ≠ Uc Sc Vtc\n",
    "\n",
    "print(M - Tor10.Contract(Tor10.Contract(Uc, Sc), Vtc))"
   ]
  },
  {
   "cell_type": "code",
   "execution_count": 9,
   "metadata": {},
   "outputs": [
    {
     "name": "stdout",
     "output_type": "stream",
     "text": [
      "-----------------------\n",
      "tensor Name : Uc\n",
      "tensor Rank : 2\n",
      "has_symmetry: False\n",
      "on device     : cpu\n",
      "is_diag       : False\n",
      "            -------------      \n",
      "           /             \\     \n",
      "    10 ____| 3         2 |____ -1 \n",
      "           \\             /     \n",
      "            -------------      \n",
      "None\n",
      "Tensor name: Uc\n",
      "is_diag    : False\n",
      "tensor([[-0.3751,  0.7010],\n",
      "        [-0.7288, -0.6274],\n",
      "        [-0.5729,  0.3392]], dtype=torch.float64)\n",
      "\n",
      "-----------------------\n",
      "tensor Name : Utc\n",
      "tensor Rank : 2\n",
      "has_symmetry: False\n",
      "on device     : cpu\n",
      "is_diag       : False\n",
      "            -------------      \n",
      "           /             \\     \n",
      "    -1 ____| 2         3 |____ 10 \n",
      "           \\             /     \n",
      "            -------------      \n",
      "None\n",
      "Tensor name: Utc\n",
      "is_diag    : False\n",
      "tensor([[-0.3751, -0.7288, -0.5729],\n",
      "        [ 0.7010, -0.6274,  0.3392]], dtype=torch.float64)\n",
      "\n",
      "-----------------------\n",
      "tensor Name : Utc\n",
      "tensor Rank : 2\n",
      "has_symmetry: False\n",
      "on device     : cpu\n",
      "is_diag       : False\n",
      "            -------------      \n",
      "           /             \\     \n",
      "    -1 ____| 2         3 |____ 11 \n",
      "           \\             /     \n",
      "            -------------      \n",
      "-----------------------\n",
      "tensor Name : Utc_Uc\n",
      "tensor Rank : 2\n",
      "has_symmetry: False\n",
      "on device     : cpu\n",
      "is_diag       : False\n",
      "            -------------      \n",
      "           /             \\     \n",
      "    10 ____| 3         3 |____ 11 \n",
      "           \\             /     \n",
      "            -------------      \n",
      "None\n",
      "Tensor name: Utc_Uc\n",
      "is_diag    : False\n",
      "tensor([[ 0.6321, -0.1664,  0.4526],\n",
      "        [-0.1664,  0.9247,  0.2047],\n",
      "        [ 0.4526,  0.2047,  0.4432]], dtype=torch.float64)\n",
      "\n"
     ]
    }
   ],
   "source": [
    "# Check Utc Uc ≠ Id\n",
    "Uc.SetName('Uc')\n",
    "Tprint(Uc)\n",
    "\n",
    "Utc = Uc.Whole_transpose()\n",
    "Utc.SetName('Utc')\n",
    "Tprint(Utc)\n",
    "Utc.SetLabels([-1, 11])\n",
    "Utc.Print_diagram()\n",
    "\n",
    "Utc_Uc = Tor10.Contract(Utc, Uc)\n",
    "Utc_Uc.SetName('Utc_Uc')\n",
    "Tprint(Utc_Uc)"
   ]
  },
  {
   "cell_type": "code",
   "execution_count": 10,
   "metadata": {},
   "outputs": [
    {
     "name": "stdout",
     "output_type": "stream",
     "text": [
      "-----------------------\n",
      "tensor Name : Sc\n",
      "tensor Rank : 2\n",
      "has_symmetry: False\n",
      "on device     : cpu\n",
      "is_diag       : True\n",
      "            -------------      \n",
      "           /             \\     \n",
      "    -1 ____| 2         2 |____ -2 \n",
      "           \\             /     \n",
      "            -------------      \n",
      "None\n",
      "Tensor name: Sc\n",
      "is_diag    : True\n",
      "tensor([1.4573, 0.6152], dtype=torch.float64)\n",
      "\n"
     ]
    }
   ],
   "source": [
    "# Check Sc\n",
    "Sc.SetName('Sc')\n",
    "Tprint(Sc)"
   ]
  },
  {
   "cell_type": "code",
   "execution_count": 11,
   "metadata": {},
   "outputs": [
    {
     "name": "stdout",
     "output_type": "stream",
     "text": [
      "-----------------------\n",
      "tensor Name : Vtc\n",
      "tensor Rank : 2\n",
      "has_symmetry: False\n",
      "on device     : cpu\n",
      "is_diag       : False\n",
      "            -------------      \n",
      "           /             \\     \n",
      "    -2 ____| 2         3 |____ 11 \n",
      "           \\             /     \n",
      "            -------------      \n",
      "None\n",
      "Tensor name: Vtc\n",
      "is_diag    : False\n",
      "tensor([[-0.7127, -0.4319, -0.5528],\n",
      "        [-0.6093, -0.0095,  0.7929]], dtype=torch.float64)\n",
      "\n",
      "-----------------------\n",
      "tensor Name : Vc\n",
      "tensor Rank : 2\n",
      "has_symmetry: False\n",
      "on device     : cpu\n",
      "is_diag       : False\n",
      "            -------------      \n",
      "           /             \\     \n",
      "    11 ____| 3         2 |____ -2 \n",
      "           \\             /     \n",
      "            -------------      \n",
      "None\n",
      "Tensor name: Vc\n",
      "is_diag    : False\n",
      "tensor([[-0.7127, -0.6093],\n",
      "        [-0.4319, -0.0095],\n",
      "        [-0.5528,  0.7929]], dtype=torch.float64)\n",
      "\n",
      "-----------------------\n",
      "tensor Name : Vc\n",
      "tensor Rank : 2\n",
      "has_symmetry: False\n",
      "on device     : cpu\n",
      "is_diag       : False\n",
      "            -------------      \n",
      "           /             \\     \n",
      "    10 ____| 3         2 |____ -2 \n",
      "           \\             /     \n",
      "            -------------      \n",
      "-----------------------\n",
      "tensor Name : Vtc_Vc\n",
      "tensor Rank : 2\n",
      "has_symmetry: False\n",
      "on device     : cpu\n",
      "is_diag       : False\n",
      "            -------------      \n",
      "           /             \\     \n",
      "    10 ____| 3         3 |____ 11 \n",
      "           \\             /     \n",
      "            -------------      \n",
      "None\n",
      "Tensor name: Vtc_Vc\n",
      "is_diag    : False\n",
      "tensor([[ 0.8791,  0.3136, -0.0891],\n",
      "        [ 0.3136,  0.1866,  0.2312],\n",
      "        [-0.0891,  0.2312,  0.9343]], dtype=torch.float64)\n",
      "\n"
     ]
    }
   ],
   "source": [
    "# Check Vtc Vc ≠ Id\n",
    "Vtc.SetName('Vtc')\n",
    "Tprint(Vtc)\n",
    "\n",
    "Vc = Vtc.Whole_transpose()\n",
    "Vc.SetName('Vc')\n",
    "Tprint(Vc)\n",
    "Vc.SetLabels([10, -2])\n",
    "Vc.Print_diagram()\n",
    "\n",
    "Vtc_Vc = Tor10.Contract(Vtc, Vc)\n",
    "Vtc_Vc.SetName('Vtc_Vc')\n",
    "Tprint(Vtc_Vc)"
   ]
  }
 ],
 "metadata": {
  "kernelspec": {
   "display_name": "Python 3",
   "language": "python",
   "name": "python3"
  },
  "language_info": {
   "codemirror_mode": {
    "name": "ipython",
    "version": 3
   },
   "file_extension": ".py",
   "mimetype": "text/x-python",
   "name": "python",
   "nbconvert_exporter": "python",
   "pygments_lexer": "ipython3",
   "version": "3.6.8"
  }
 },
 "nbformat": 4,
 "nbformat_minor": 2
}
