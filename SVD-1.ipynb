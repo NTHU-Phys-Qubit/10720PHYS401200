{
 "cells": [
  {
   "cell_type": "markdown",
   "metadata": {},
   "source": [
    "# Sinvular Value Decomposition (SVD)-1\n",
    "\n",
    "In this tutorial, we show how to perform\n",
    "* SVD for a rank-n tensor.\n",
    "* SVD + truncation for a rank-2 tensor.\n",
    "\n",
    "## API change\n",
    "* `N_rowrank-->rowrank`."
   ]
  },
  {
   "cell_type": "code",
   "execution_count": 1,
   "metadata": {},
   "outputs": [],
   "source": [
    "import Tor10\n",
    "import copy\n",
    "\n",
    "def Tprint(T):\n",
    "    print(T.Print_diagram())\n",
    "    print(T)"
   ]
  },
  {
   "cell_type": "markdown",
   "metadata": {},
   "source": [
    "## SVD for a rank-4 tensor."
   ]
  },
  {
   "cell_type": "code",
   "execution_count": 2,
   "metadata": {},
   "outputs": [
    {
     "name": "stdout",
     "output_type": "stream",
     "text": [
      "-----------------------\n",
      "tensor Name : T\n",
      "tensor Rank : 4\n",
      "has_symmetry: False\n",
      "on device     : cpu\n",
      "is_diag       : False\n",
      "            -------------      \n",
      "           /             \\     \n",
      "    10 ____| 2         2 |____ 12 \n",
      "           |             |     \n",
      "    11 ____| 2         2 |____ 13 \n",
      "           \\             /     \n",
      "            -------------      \n",
      "None\n",
      "Tensor name: T\n",
      "is_diag    : False\n",
      "tensor([[[[0.4315, 0.4814],\n",
      "          [0.9250, 0.5966]],\n",
      "\n",
      "         [[0.9679, 0.5767],\n",
      "          [0.4183, 0.3819]]],\n",
      "\n",
      "\n",
      "        [[[0.0466, 0.0426],\n",
      "          [0.5829, 0.4267]],\n",
      "\n",
      "         [[0.2143, 0.2102],\n",
      "          [0.5423, 0.3379]]]], dtype=torch.float64)\n",
      "\n"
     ]
    }
   ],
   "source": [
    "bd = Tor10.Bond(2)\n",
    "T = Tor10.UniTensor([bd, bd, bd, bd], rowrank=2, name='T', labels=[10,11,12,13])\n",
    "T.Rand()\n",
    "Tprint(T)"
   ]
  },
  {
   "cell_type": "markdown",
   "metadata": {},
   "source": [
    "### Step-1: Convert $T$ into a rank-2 tensor $M$ via `GetBlock`"
   ]
  },
  {
   "cell_type": "code",
   "execution_count": 3,
   "metadata": {},
   "outputs": [
    {
     "name": "stdout",
     "output_type": "stream",
     "text": [
      "-----------------------\n",
      "tensor Name : M\n",
      "tensor Rank : 2\n",
      "has_symmetry: False\n",
      "on device     : cpu\n",
      "is_diag       : False\n",
      "            -------------      \n",
      "           /             \\     \n",
      "     0 ____| 4         4 |____ 1  \n",
      "           \\             /     \n",
      "            -------------      \n",
      "None\n",
      "Tensor name: M\n",
      "is_diag    : False\n",
      "tensor([[0.4315, 0.4814, 0.9250, 0.5966],\n",
      "        [0.9679, 0.5767, 0.4183, 0.3819],\n",
      "        [0.0466, 0.0426, 0.5829, 0.4267],\n",
      "        [0.2143, 0.2102, 0.5423, 0.3379]], dtype=torch.float64)\n",
      "\n"
     ]
    }
   ],
   "source": [
    "M = T.GetBlock()\n",
    "M.SetName('M')\n",
    "Tprint(M)"
   ]
  },
  {
   "cell_type": "markdown",
   "metadata": {},
   "source": [
    "### Step-2: Perform SVD on $M$\n",
    "\n",
    "* The results are rank-2 tensors."
   ]
  },
  {
   "cell_type": "code",
   "execution_count": 4,
   "metadata": {},
   "outputs": [
    {
     "name": "stdout",
     "output_type": "stream",
     "text": [
      "-----------------------\n",
      "tensor Name : UM\n",
      "tensor Rank : 2\n",
      "has_symmetry: False\n",
      "on device     : cpu\n",
      "is_diag       : False\n",
      "            -------------      \n",
      "           /             \\     \n",
      "     0 ____| 4         4 |____ -1 \n",
      "           \\             /     \n",
      "            -------------      \n",
      "-----------------------\n",
      "tensor Name : S\n",
      "tensor Rank : 2\n",
      "has_symmetry: False\n",
      "on device     : cpu\n",
      "is_diag       : True\n",
      "            -------------      \n",
      "           /             \\     \n",
      "    -1 ____| 4         4 |____ -2 \n",
      "           \\             /     \n",
      "            -------------      \n",
      "-----------------------\n",
      "tensor Name : VtM\n",
      "tensor Rank : 2\n",
      "has_symmetry: False\n",
      "on device     : cpu\n",
      "is_diag       : False\n",
      "            -------------      \n",
      "           /             \\     \n",
      "    -2 ____| 4         4 |____ 1  \n",
      "           \\             /     \n",
      "            -------------      \n"
     ]
    }
   ],
   "source": [
    "# three identical ways to perform SVD\n",
    "UM, S, VtM = M.Svd()\n",
    "UM, S, VtM = Tor10.Svd(M)\n",
    "UM, S, VtM = Tor10.linalg.Svd(M)\n",
    "\n",
    "UM.SetName('UM')\n",
    "S.SetName('S')\n",
    "VtM.SetName('VtM')\n",
    "UM.Print_diagram()\n",
    "S.Print_diagram()\n",
    "VtM.Print_diagram()"
   ]
  },
  {
   "cell_type": "markdown",
   "metadata": {},
   "source": [
    "### Step-3: Obtain the SVD of $T$ via `PutBlock`\n",
    "\n",
    "* Create rank-k tensor $U$ and $Vt$ that are compatible with $UM$ and $VtM$.\n",
    "* Use `PutBlock` to copy the values of $UM (VtM)$ tensor into $U (Vt)$ tensor.\n",
    "* The **left** bonds of $U$ are the same as the left bonds of $T$.\n",
    "* The **right** bonds of $U$ are the same as the right bonds of $UM$.\n",
    "* The **left** bonds of $Vt$ are the same as the left bonds of $VtM$.\n",
    "* The **right** bonds of $Vt$ are the same as the right bonds of $T$.\n",
    "* It is a good idea to also copy the labels.\n",
    "\n"
   ]
  },
  {
   "cell_type": "code",
   "execution_count": 5,
   "metadata": {},
   "outputs": [
    {
     "name": "stdout",
     "output_type": "stream",
     "text": [
      "-----------------------\n",
      "tensor Name : UM\n",
      "tensor Rank : 2\n",
      "has_symmetry: False\n",
      "on device     : cpu\n",
      "is_diag       : False\n",
      "            -------------      \n",
      "           /             \\     \n",
      "     0 ____| 4         4 |____ -1 \n",
      "           \\             /     \n",
      "            -------------      \n",
      "None\n",
      "Tensor name: UM\n",
      "is_diag    : False\n",
      "tensor([[-0.6529,  0.2929,  0.5901, -0.3737],\n",
      "        [-0.5906, -0.7529, -0.2900, -0.0160],\n",
      "        [-0.3136,  0.5398, -0.7510, -0.2149],\n",
      "        [-0.3557,  0.2365,  0.0604,  0.9022]], dtype=torch.float64)\n",
      "\n",
      "-----------------------\n",
      "tensor Name : U\n",
      "tensor Rank : 3\n",
      "has_symmetry: False\n",
      "on device     : cpu\n",
      "is_diag       : False\n",
      "            -------------      \n",
      "           /             \\     \n",
      "    10 ____| 2         4 |____ -1 \n",
      "           |             |     \n",
      "    11 ____| 2           |        \n",
      "           \\             /     \n",
      "            -------------      \n",
      "None\n",
      "Tensor name: U\n",
      "is_diag    : False\n",
      "tensor([[[-0.6529,  0.2929,  0.5901, -0.3737],\n",
      "         [-0.5906, -0.7529, -0.2900, -0.0160]],\n",
      "\n",
      "        [[-0.3136,  0.5398, -0.7510, -0.2149],\n",
      "         [-0.3557,  0.2365,  0.0604,  0.9022]]], dtype=torch.float64)\n",
      "\n"
     ]
    }
   ],
   "source": [
    "Tprint(UM)\n",
    "U = Tor10.UniTensor([T.bonds[0], T.bonds[1], UM.bonds[1]], \n",
    "                    labels=[T.labels[0], T.labels[1], UM.labels[1]], rowrank=2, name='U', )\n",
    "U.PutBlock(UM)\n",
    "Tprint(U)"
   ]
  },
  {
   "cell_type": "code",
   "execution_count": 6,
   "metadata": {},
   "outputs": [
    {
     "name": "stdout",
     "output_type": "stream",
     "text": [
      "-----------------------\n",
      "tensor Name : Vt\n",
      "tensor Rank : 3\n",
      "has_symmetry: False\n",
      "on device     : cpu\n",
      "is_diag       : False\n",
      "            -------------      \n",
      "           /             \\     \n",
      "    -2 ____| 4         2 |____ 12 \n",
      "           |             |     \n",
      "           |           2 |____ 13 \n",
      "           \\             /     \n",
      "            -------------      \n",
      "None\n",
      "Tensor name: Vt\n",
      "is_diag    : False\n",
      "tensor([[[-0.4906, -0.3861],\n",
      "         [-0.6374, -0.4516]],\n",
      "\n",
      "        [[-0.7274, -0.3046],\n",
      "         [ 0.5511,  0.2728]],\n",
      "\n",
      "        [[-0.3843,  0.7797],\n",
      "         [ 0.1559, -0.4692]],\n",
      "\n",
      "        [[ 0.2872, -0.3877],\n",
      "         [ 0.5154, -0.7082]]], dtype=torch.float64)\n",
      "\n"
     ]
    }
   ],
   "source": [
    "Vt = Tor10.UniTensor([VtM.bonds[0], T.bonds[2], T.bonds[3]], \n",
    "                     labels=[VtM.labels[0], T.labels[2], T.labels[3]], rowrank=1, name='Vt')\n",
    "Vt.PutBlock(VtM)\n",
    "Tprint(Vt)"
   ]
  },
  {
   "cell_type": "code",
   "execution_count": 7,
   "metadata": {},
   "outputs": [
    {
     "name": "stdout",
     "output_type": "stream",
     "text": [
      "-----------------------\n",
      "tensor Name : \n",
      "tensor Rank : 4\n",
      "has_symmetry: False\n",
      "on device     : cpu\n",
      "is_diag       : False\n",
      "            -------------      \n",
      "           /             \\     \n",
      "    10 ____| 2         2 |____ 12 \n",
      "           |             |     \n",
      "    11 ____| 2         2 |____ 13 \n",
      "           \\             /     \n",
      "            -------------      \n",
      "None\n",
      "Tensor name: \n",
      "is_diag    : False\n",
      "tensor([[[[ 2.7756e-16,  5.5511e-16],\n",
      "          [-1.1102e-16,  2.2204e-16]],\n",
      "\n",
      "         [[ 3.3307e-16,  2.2204e-16],\n",
      "          [ 3.3307e-16,  3.3307e-16]]],\n",
      "\n",
      "\n",
      "        [[[ 1.1102e-16,  4.1633e-17],\n",
      "          [-1.1102e-16,  0.0000e+00]],\n",
      "\n",
      "         [[ 1.1102e-16,  8.3267e-17],\n",
      "          [ 0.0000e+00,  0.0000e+00]]]], dtype=torch.float64)\n",
      "\n"
     ]
    }
   ],
   "source": [
    "# Check T = U S Vt\n",
    "Tprint(T - Tor10.Contract(Tor10.Contract(U, S), Vt))"
   ]
  },
  {
   "cell_type": "markdown",
   "metadata": {},
   "source": [
    "### Get the same result via `Reshape`"
   ]
  },
  {
   "cell_type": "code",
   "execution_count": 8,
   "metadata": {},
   "outputs": [
    {
     "name": "stdout",
     "output_type": "stream",
     "text": [
      "-----------------------\n",
      "tensor Name : \n",
      "tensor Rank : 3\n",
      "has_symmetry: False\n",
      "on device     : cpu\n",
      "is_diag       : False\n",
      "            -------------      \n",
      "           /             \\     \n",
      "     0 ____| 2         4 |____ 2  \n",
      "           |             |     \n",
      "     1 ____| 2           |        \n",
      "           \\             /     \n",
      "            -------------      \n",
      "None\n",
      "Tensor name: \n",
      "is_diag    : False\n",
      "tensor([[[0., 0., 0., 0.],\n",
      "         [0., 0., 0., 0.]],\n",
      "\n",
      "        [[0., 0., 0., 0.],\n",
      "         [0., 0., 0., 0.]]], dtype=torch.float64)\n",
      "\n",
      "-----------------------\n",
      "tensor Name : \n",
      "tensor Rank : 3\n",
      "has_symmetry: False\n",
      "on device     : cpu\n",
      "is_diag       : False\n",
      "            -------------      \n",
      "           /             \\     \n",
      "     0 ____| 4         2 |____ 1  \n",
      "           |             |     \n",
      "           |           2 |____ 2  \n",
      "           \\             /     \n",
      "            -------------      \n",
      "None\n",
      "Tensor name: \n",
      "is_diag    : False\n",
      "tensor([[[0., 0.],\n",
      "         [0., 0.]],\n",
      "\n",
      "        [[0., 0.],\n",
      "         [0., 0.]],\n",
      "\n",
      "        [[0., 0.],\n",
      "         [0., 0.]],\n",
      "\n",
      "        [[0., 0.],\n",
      "         [0., 0.]]], dtype=torch.float64)\n",
      "\n"
     ]
    }
   ],
   "source": [
    "UMp = UM.Reshape([2, 2, 4], rowrank=2)\n",
    "Tprint(UMp - U)\n",
    "\n",
    "VtMp = VtM.Reshape([4, 2, 2], rowrank=1)\n",
    "Tprint(VtMp - Vt)"
   ]
  }
 ],
 "metadata": {
  "kernelspec": {
   "display_name": "Python 3",
   "language": "python",
   "name": "python3"
  },
  "language_info": {
   "codemirror_mode": {
    "name": "ipython",
    "version": 3
   },
   "file_extension": ".py",
   "mimetype": "text/x-python",
   "name": "python",
   "nbconvert_exporter": "python",
   "pygments_lexer": "ipython3",
   "version": "3.6.8"
  }
 },
 "nbformat": 4,
 "nbformat_minor": 2
}
